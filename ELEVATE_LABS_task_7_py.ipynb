{
  "nbformat": 4,
  "nbformat_minor": 0,
  "metadata": {
    "colab": {
      "provenance": [],
      "authorship_tag": "ABX9TyMiiX54KJIw8c1V6RLAPg9n",
      "include_colab_link": true
    },
    "kernelspec": {
      "name": "python3",
      "display_name": "Python 3"
    },
    "language_info": {
      "name": "python"
    }
  },
  "cells": [
    {
      "cell_type": "markdown",
      "metadata": {
        "id": "view-in-github",
        "colab_type": "text"
      },
      "source": [
        "<a href=\"https://colab.research.google.com/github/Dhivyaindhu/ELEVATE_TASK_7/blob/main/ELEVATE_LABS_task_7_py.ipynb\" target=\"_parent\"><img src=\"https://colab.research.google.com/assets/colab-badge.svg\" alt=\"Open In Colab\"/></a>"
      ]
    },
    {
      "cell_type": "code",
      "source": [
        "import sqlite3\n",
        "conn = sqlite3.connect(\"sales_data.db\")\n",
        "cur = conn.cursor()\n",
        "cur.execute('''\n",
        "    CREATE TABLE IF NOT EXISTS sales (\n",
        "        id INTEGER PRIMARY KEY AUTOINCREMENT,\n",
        "        product_name TEXT,\n",
        "        quantity_sold INTEGER,\n",
        "        unit_price REAL\n",
        "    )\n",
        "''')\n",
        "sample_data = [\n",
        "    (\"Pen\", 120, 5.0),\n",
        "    (\"Notebook\", 80, 20.0),\n",
        "    (\"Pencil\", 150, 2.0),\n",
        "    (\"Eraser\", 100, 1.5),\n",
        "    (\"Marker\", 60, 10.0)\n",
        "]\n",
        "\n",
        "cur.executemany(\"INSERT INTO sales (product_name, quantity_sold, unit_price) VALUES (?, ?, ?)\", sample_data)\n",
        "\n",
        "conn.commit()\n",
        "conn.close()\n"
      ],
      "metadata": {
        "id": "91RPPUqKb_MG"
      },
      "execution_count": null,
      "outputs": []
    }
  ]
}